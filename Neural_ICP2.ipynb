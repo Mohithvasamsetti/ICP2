{
  "nbformat": 4,
  "nbformat_minor": 0,
  "metadata": {
    "colab": {
      "provenance": []
    },
    "kernelspec": {
      "name": "python3",
      "display_name": "Python 3"
    },
    "language_info": {
      "name": "python"
    }
  },
  "cells": [
    {
      "cell_type": "code",
      "execution_count": 6,
      "metadata": {
        "colab": {
          "base_uri": "https://localhost:8080/"
        },
        "id": "dEPLj_5pMu5G",
        "outputId": "18e3882d-f642-4dcb-8a08-eff91b597b3b"
      },
      "outputs": [
        {
          "output_type": "stream",
          "name": "stdout",
          "text": [
            "Enter first name: mohith\n",
            "Enter last name: vasamsetti\n",
            "Full name: mohith vasamsetti\n",
            "Alternative string: mht aasti\n"
          ]
        }
      ],
      "source": [
        "def fullname(first_name, last_name):\n",
        "    return f\"{first_name} {last_name}\"\n",
        "def string_alternative(full_name):\n",
        "    return full_name[::2]\n",
        "first_name = input(\"Enter first name: \")\n",
        "last_name = input(\"Enter last name: \")\n",
        "full_name = fullname(first_name, last_name)\n",
        "print(\"Full name:\", full_name)\n",
        "alternative_string = string_alternative(full_name)\n",
        "print(\"Alternative string:\", alternative_string)\n"
      ]
    },
    {
      "cell_type": "code",
      "source": [
        "from google.colab import drive\n",
        "drive.mount('/content/drive')\n",
        "\n",
        "input_path = '/content/drive/MyDrive/input.txt'\n",
        "output_path = '/content/drive/MyDrive/output.txt'\n",
        "def count_words(input_path, output_path):\n",
        "    try:\n",
        "        with open(input_path, 'r') as file:\n",
        "            text = file.read()\n",
        "            words = text.split()\n",
        "            word_count = len(words)\n",
        "            word_counts = {}\n",
        "            for word in words:\n",
        "                if word in word_counts:\n",
        "                    word_counts[word] += 1\n",
        "                else:\n",
        "                    word_counts[word] = 1\n",
        "            with open(output_path, 'w') as out_file:\n",
        "                out_file.write(\"Word counts:\\n\")\n",
        "                for word, count in word_counts.items():\n",
        "                    out_file.write(f\"{word}: {count}\\n\")\n",
        "            print(f\"Output written to {output_path}\")\n",
        "    except FileNotFoundError:\n",
        "        print(f\"Error: The file '{input_path}' was not found.\")\n",
        "count_words(input_path, output_path)\n"
      ],
      "metadata": {
        "colab": {
          "base_uri": "https://localhost:8080/"
        },
        "id": "ZdTO95lLNUPB",
        "outputId": "caa2a7b9-b15e-4bb5-9bf8-fd8deab1aefb"
      },
      "execution_count": 3,
      "outputs": [
        {
          "output_type": "stream",
          "name": "stdout",
          "text": [
            "Drive already mounted at /content/drive; to attempt to forcibly remount, call drive.mount(\"/content/drive\", force_remount=True).\n",
            "Output written to /content/drive/MyDrive/output.txt\n"
          ]
        }
      ]
    },
    {
      "cell_type": "markdown",
      "source": [
        "Nested Interactive Loop"
      ],
      "metadata": {
        "id": "d2JNRYRiftNH"
      }
    },
    {
      "cell_type": "code",
      "source": [
        "def convert_heights_nested():\n",
        "    heights_inches = []\n",
        "    heights_cm = []\n",
        "    while True:\n",
        "        height_str = input(\"Enter height in inches: \")\n",
        "        if height_str.lower() == 'end':\n",
        "            break\n",
        "        try:\n",
        "            height_inches = float(height_str)\n",
        "            if height_inches < 0:\n",
        "                print(\"Height should be a positive number.\")\n",
        "            else:\n",
        "                heights_inches.append(height_inches)\n",
        "        except ValueError:\n",
        "            print(\"Invalid input. Please enter a valid number or 'done'.\")\n",
        "    for height in heights_inches:\n",
        "        height_cm = height * 2.54\n",
        "        heights_cm.append(height_cm)\n",
        "    print(\"\\nHeights in Inches:\", heights_inches)\n",
        "    print(\"Heights in Centimeters:\", heights_cm)\n",
        "convert_heights_nested()\n"
      ],
      "metadata": {
        "colab": {
          "base_uri": "https://localhost:8080/"
        },
        "id": "qyXO_kr_fyDO",
        "outputId": "dff8e357-eca7-412e-e92e-444ecbd5568b"
      },
      "execution_count": 7,
      "outputs": [
        {
          "output_type": "stream",
          "name": "stdout",
          "text": [
            "Enter height in inches: 2\n",
            "Enter height in inches: 3\n",
            "Enter height in inches: 4\n",
            "Enter height in inches: 5\n",
            "Enter height in inches: END\n",
            "\n",
            "Heights in Inches: [2.0, 3.0, 4.0, 5.0]\n",
            "Heights in Centimeters: [5.08, 7.62, 10.16, 12.7]\n"
          ]
        }
      ]
    },
    {
      "cell_type": "markdown",
      "source": [
        "List Comprehension:"
      ],
      "metadata": {
        "id": "sVCCoJiijqy6"
      }
    },
    {
      "cell_type": "code",
      "source": [
        "def convert_heights_comprehension():\n",
        "    heights_inches = []\n",
        "    while True:\n",
        "        height_str = input(\"Enter height in inches: \")\n",
        "        if height_str.lower() == 'end':\n",
        "            break\n",
        "        try:\n",
        "            height_inches = float(height_str)\n",
        "            if height_inches < 0:\n",
        "                print(\"Height should be a positive number.\")\n",
        "            else:\n",
        "                heights_inches.append(height_inches)\n",
        "        except ValueError:\n",
        "            print(\"Invalid input. Please enter a valid number or 'done'.\")\n",
        "    heights_cm = [height * 2.54 for height in heights_inches]\n",
        "    print(\"\\nHeights in Inches:\", heights_inches)\n",
        "    print(\"Heights in Centimeters:\", heights_cm)\n",
        "convert_heights_comprehension()\n"
      ],
      "metadata": {
        "colab": {
          "base_uri": "https://localhost:8080/"
        },
        "id": "pJOCEX3zjxJ4",
        "outputId": "4f24f6fb-84ef-4217-a4a3-61f56a7bced2"
      },
      "execution_count": 8,
      "outputs": [
        {
          "output_type": "stream",
          "name": "stdout",
          "text": [
            "Enter height in inches: 23\n",
            "Enter height in inches: 24\n",
            "Enter height in inches: 25\n",
            "Enter height in inches: END\n",
            "\n",
            "Heights in Inches: [23.0, 24.0, 25.0]\n",
            "Heights in Centimeters: [58.42, 60.96, 63.5]\n"
          ]
        }
      ]
    }
  ]
}